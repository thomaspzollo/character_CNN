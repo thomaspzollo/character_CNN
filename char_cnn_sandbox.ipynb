{
  "nbformat": 4,
  "nbformat_minor": 0,
  "metadata": {
    "colab": {
      "name": "cnn_sandbox_1.1.ipynb",
      "provenance": [],
      "collapsed_sections": []
    },
    "kernelspec": {
      "name": "python3",
      "display_name": "Python 3"
    },
    "language_info": {
      "name": "python"
    },
    "accelerator": "GPU",
    "widgets": {
      "application/vnd.jupyter.widget-state+json": {
        "1ad60962003042539350c8bb1927d1f0": {
          "model_module": "@jupyter-widgets/controls",
          "model_name": "HBoxModel",
          "state": {
            "_view_name": "HBoxView",
            "_dom_classes": [],
            "_model_name": "HBoxModel",
            "_view_module": "@jupyter-widgets/controls",
            "_model_module_version": "1.5.0",
            "_view_count": null,
            "_view_module_version": "1.5.0",
            "box_style": "",
            "layout": "IPY_MODEL_32c3e98bbe124950930c21cc6a841107",
            "_model_module": "@jupyter-widgets/controls",
            "children": [
              "IPY_MODEL_c58890ceea1b486b91a035bce10348d4",
              "IPY_MODEL_1f6f124a33b14b31bcb525a79a49afe2"
            ]
          }
        },
        "32c3e98bbe124950930c21cc6a841107": {
          "model_module": "@jupyter-widgets/base",
          "model_name": "LayoutModel",
          "state": {
            "_view_name": "LayoutView",
            "grid_template_rows": null,
            "right": null,
            "justify_content": null,
            "_view_module": "@jupyter-widgets/base",
            "overflow": null,
            "_model_module_version": "1.2.0",
            "_view_count": null,
            "flex_flow": null,
            "width": null,
            "min_width": null,
            "border": null,
            "align_items": null,
            "bottom": null,
            "_model_module": "@jupyter-widgets/base",
            "top": null,
            "grid_column": null,
            "overflow_y": null,
            "overflow_x": null,
            "grid_auto_flow": null,
            "grid_area": null,
            "grid_template_columns": null,
            "flex": null,
            "_model_name": "LayoutModel",
            "justify_items": null,
            "grid_row": null,
            "max_height": null,
            "align_content": null,
            "visibility": null,
            "align_self": null,
            "height": null,
            "min_height": null,
            "padding": null,
            "grid_auto_rows": null,
            "grid_gap": null,
            "max_width": null,
            "order": null,
            "_view_module_version": "1.2.0",
            "grid_template_areas": null,
            "object_position": null,
            "object_fit": null,
            "grid_auto_columns": null,
            "margin": null,
            "display": null,
            "left": null
          }
        },
        "c58890ceea1b486b91a035bce10348d4": {
          "model_module": "@jupyter-widgets/controls",
          "model_name": "FloatProgressModel",
          "state": {
            "_view_name": "ProgressView",
            "style": "IPY_MODEL_9d9d33f5a702453dbb188164dd055e6d",
            "_dom_classes": [],
            "description": "100%",
            "_model_name": "FloatProgressModel",
            "bar_style": "success",
            "max": 100,
            "_view_module": "@jupyter-widgets/controls",
            "_model_module_version": "1.5.0",
            "value": 100,
            "_view_count": null,
            "_view_module_version": "1.5.0",
            "orientation": "horizontal",
            "min": 0,
            "description_tooltip": null,
            "_model_module": "@jupyter-widgets/controls",
            "layout": "IPY_MODEL_66e84a48d32f426f8273ee531616190b"
          }
        },
        "1f6f124a33b14b31bcb525a79a49afe2": {
          "model_module": "@jupyter-widgets/controls",
          "model_name": "HTMLModel",
          "state": {
            "_view_name": "HTMLView",
            "style": "IPY_MODEL_65c2fdadaf9f4e1b8b5d1a7008dcfa63",
            "_dom_classes": [],
            "description": "",
            "_model_name": "HTMLModel",
            "placeholder": "​",
            "_view_module": "@jupyter-widgets/controls",
            "_model_module_version": "1.5.0",
            "value": " 100/100 [03:22&lt;00:00,  2.03s/it]",
            "_view_count": null,
            "_view_module_version": "1.5.0",
            "description_tooltip": null,
            "_model_module": "@jupyter-widgets/controls",
            "layout": "IPY_MODEL_632b3740f83b405fb20ed7b0b6ed792b"
          }
        },
        "9d9d33f5a702453dbb188164dd055e6d": {
          "model_module": "@jupyter-widgets/controls",
          "model_name": "ProgressStyleModel",
          "state": {
            "_view_name": "StyleView",
            "_model_name": "ProgressStyleModel",
            "description_width": "initial",
            "_view_module": "@jupyter-widgets/base",
            "_model_module_version": "1.5.0",
            "_view_count": null,
            "_view_module_version": "1.2.0",
            "bar_color": null,
            "_model_module": "@jupyter-widgets/controls"
          }
        },
        "66e84a48d32f426f8273ee531616190b": {
          "model_module": "@jupyter-widgets/base",
          "model_name": "LayoutModel",
          "state": {
            "_view_name": "LayoutView",
            "grid_template_rows": null,
            "right": null,
            "justify_content": null,
            "_view_module": "@jupyter-widgets/base",
            "overflow": null,
            "_model_module_version": "1.2.0",
            "_view_count": null,
            "flex_flow": null,
            "width": null,
            "min_width": null,
            "border": null,
            "align_items": null,
            "bottom": null,
            "_model_module": "@jupyter-widgets/base",
            "top": null,
            "grid_column": null,
            "overflow_y": null,
            "overflow_x": null,
            "grid_auto_flow": null,
            "grid_area": null,
            "grid_template_columns": null,
            "flex": null,
            "_model_name": "LayoutModel",
            "justify_items": null,
            "grid_row": null,
            "max_height": null,
            "align_content": null,
            "visibility": null,
            "align_self": null,
            "height": null,
            "min_height": null,
            "padding": null,
            "grid_auto_rows": null,
            "grid_gap": null,
            "max_width": null,
            "order": null,
            "_view_module_version": "1.2.0",
            "grid_template_areas": null,
            "object_position": null,
            "object_fit": null,
            "grid_auto_columns": null,
            "margin": null,
            "display": null,
            "left": null
          }
        },
        "65c2fdadaf9f4e1b8b5d1a7008dcfa63": {
          "model_module": "@jupyter-widgets/controls",
          "model_name": "DescriptionStyleModel",
          "state": {
            "_view_name": "StyleView",
            "_model_name": "DescriptionStyleModel",
            "description_width": "",
            "_view_module": "@jupyter-widgets/base",
            "_model_module_version": "1.5.0",
            "_view_count": null,
            "_view_module_version": "1.2.0",
            "_model_module": "@jupyter-widgets/controls"
          }
        },
        "632b3740f83b405fb20ed7b0b6ed792b": {
          "model_module": "@jupyter-widgets/base",
          "model_name": "LayoutModel",
          "state": {
            "_view_name": "LayoutView",
            "grid_template_rows": null,
            "right": null,
            "justify_content": null,
            "_view_module": "@jupyter-widgets/base",
            "overflow": null,
            "_model_module_version": "1.2.0",
            "_view_count": null,
            "flex_flow": null,
            "width": null,
            "min_width": null,
            "border": null,
            "align_items": null,
            "bottom": null,
            "_model_module": "@jupyter-widgets/base",
            "top": null,
            "grid_column": null,
            "overflow_y": null,
            "overflow_x": null,
            "grid_auto_flow": null,
            "grid_area": null,
            "grid_template_columns": null,
            "flex": null,
            "_model_name": "LayoutModel",
            "justify_items": null,
            "grid_row": null,
            "max_height": null,
            "align_content": null,
            "visibility": null,
            "align_self": null,
            "height": null,
            "min_height": null,
            "padding": null,
            "grid_auto_rows": null,
            "grid_gap": null,
            "max_width": null,
            "order": null,
            "_view_module_version": "1.2.0",
            "grid_template_areas": null,
            "object_position": null,
            "object_fit": null,
            "grid_auto_columns": null,
            "margin": null,
            "display": null,
            "left": null
          }
        }
      }
    }
  },
  "cells": [
    {
      "cell_type": "code",
      "metadata": {
        "id": "uSXuAfk7blof",
        "colab": {
          "base_uri": "https://localhost:8080/"
        },
        "outputId": "3d086ccf-dcf9-42fb-c511-b6f1f1326199"
      },
      "source": [
        "!pip install sentence-transformers"
      ],
      "execution_count": null,
      "outputs": [
        {
          "output_type": "stream",
          "text": [
            "Collecting sentence-transformers\n",
            "\u001b[?25l  Downloading https://files.pythonhosted.org/packages/c4/87/49dc49e13ac107ce912c2f3f3fd92252c6d4221e88d1e6c16747044a11d8/sentence-transformers-1.1.0.tar.gz (78kB)\n",
            "\u001b[K     |████████████████████████████████| 81kB 4.5MB/s \n",
            "\u001b[?25hCollecting transformers<5.0.0,>=3.1.0\n",
            "\u001b[?25l  Downloading https://files.pythonhosted.org/packages/d8/b2/57495b5309f09fa501866e225c84532d1fd89536ea62406b2181933fb418/transformers-4.5.1-py3-none-any.whl (2.1MB)\n",
            "\u001b[K     |████████████████████████████████| 2.1MB 8.7MB/s \n",
            "\u001b[?25hRequirement already satisfied: tqdm in /usr/local/lib/python3.7/dist-packages (from sentence-transformers) (4.41.1)\n",
            "Requirement already satisfied: torch>=1.6.0 in /usr/local/lib/python3.7/dist-packages (from sentence-transformers) (1.8.1+cu101)\n",
            "Requirement already satisfied: numpy in /usr/local/lib/python3.7/dist-packages (from sentence-transformers) (1.19.5)\n",
            "Requirement already satisfied: scikit-learn in /usr/local/lib/python3.7/dist-packages (from sentence-transformers) (0.22.2.post1)\n",
            "Requirement already satisfied: scipy in /usr/local/lib/python3.7/dist-packages (from sentence-transformers) (1.4.1)\n",
            "Requirement already satisfied: nltk in /usr/local/lib/python3.7/dist-packages (from sentence-transformers) (3.2.5)\n",
            "Collecting sentencepiece\n",
            "\u001b[?25l  Downloading https://files.pythonhosted.org/packages/f5/99/e0808cb947ba10f575839c43e8fafc9cc44e4a7a2c8f79c60db48220a577/sentencepiece-0.1.95-cp37-cp37m-manylinux2014_x86_64.whl (1.2MB)\n",
            "\u001b[K     |████████████████████████████████| 1.2MB 27.5MB/s \n",
            "\u001b[?25hCollecting sacremoses\n",
            "\u001b[?25l  Downloading https://files.pythonhosted.org/packages/75/ee/67241dc87f266093c533a2d4d3d69438e57d7a90abb216fa076e7d475d4a/sacremoses-0.0.45-py3-none-any.whl (895kB)\n",
            "\u001b[K     |████████████████████████████████| 901kB 37.5MB/s \n",
            "\u001b[?25hRequirement already satisfied: filelock in /usr/local/lib/python3.7/dist-packages (from transformers<5.0.0,>=3.1.0->sentence-transformers) (3.0.12)\n",
            "Requirement already satisfied: packaging in /usr/local/lib/python3.7/dist-packages (from transformers<5.0.0,>=3.1.0->sentence-transformers) (20.9)\n",
            "Requirement already satisfied: regex!=2019.12.17 in /usr/local/lib/python3.7/dist-packages (from transformers<5.0.0,>=3.1.0->sentence-transformers) (2019.12.20)\n",
            "Requirement already satisfied: requests in /usr/local/lib/python3.7/dist-packages (from transformers<5.0.0,>=3.1.0->sentence-transformers) (2.23.0)\n",
            "Collecting tokenizers<0.11,>=0.10.1\n",
            "\u001b[?25l  Downloading https://files.pythonhosted.org/packages/ae/04/5b870f26a858552025a62f1649c20d29d2672c02ff3c3fb4c688ca46467a/tokenizers-0.10.2-cp37-cp37m-manylinux2010_x86_64.whl (3.3MB)\n",
            "\u001b[K     |████████████████████████████████| 3.3MB 43.8MB/s \n",
            "\u001b[?25hRequirement already satisfied: importlib-metadata; python_version < \"3.8\" in /usr/local/lib/python3.7/dist-packages (from transformers<5.0.0,>=3.1.0->sentence-transformers) (3.10.1)\n",
            "Requirement already satisfied: typing-extensions in /usr/local/lib/python3.7/dist-packages (from torch>=1.6.0->sentence-transformers) (3.7.4.3)\n",
            "Requirement already satisfied: joblib>=0.11 in /usr/local/lib/python3.7/dist-packages (from scikit-learn->sentence-transformers) (1.0.1)\n",
            "Requirement already satisfied: six in /usr/local/lib/python3.7/dist-packages (from nltk->sentence-transformers) (1.15.0)\n",
            "Requirement already satisfied: click in /usr/local/lib/python3.7/dist-packages (from sacremoses->transformers<5.0.0,>=3.1.0->sentence-transformers) (7.1.2)\n",
            "Requirement already satisfied: pyparsing>=2.0.2 in /usr/local/lib/python3.7/dist-packages (from packaging->transformers<5.0.0,>=3.1.0->sentence-transformers) (2.4.7)\n",
            "Requirement already satisfied: chardet<4,>=3.0.2 in /usr/local/lib/python3.7/dist-packages (from requests->transformers<5.0.0,>=3.1.0->sentence-transformers) (3.0.4)\n",
            "Requirement already satisfied: urllib3!=1.25.0,!=1.25.1,<1.26,>=1.21.1 in /usr/local/lib/python3.7/dist-packages (from requests->transformers<5.0.0,>=3.1.0->sentence-transformers) (1.24.3)\n",
            "Requirement already satisfied: certifi>=2017.4.17 in /usr/local/lib/python3.7/dist-packages (from requests->transformers<5.0.0,>=3.1.0->sentence-transformers) (2020.12.5)\n",
            "Requirement already satisfied: idna<3,>=2.5 in /usr/local/lib/python3.7/dist-packages (from requests->transformers<5.0.0,>=3.1.0->sentence-transformers) (2.10)\n",
            "Requirement already satisfied: zipp>=0.5 in /usr/local/lib/python3.7/dist-packages (from importlib-metadata; python_version < \"3.8\"->transformers<5.0.0,>=3.1.0->sentence-transformers) (3.4.1)\n",
            "Building wheels for collected packages: sentence-transformers\n",
            "  Building wheel for sentence-transformers (setup.py) ... \u001b[?25l\u001b[?25hdone\n",
            "  Created wheel for sentence-transformers: filename=sentence_transformers-1.1.0-cp37-none-any.whl size=119615 sha256=57ba534ccfdb771db618fb80a18c5a5afb486abc1eb5da189d644e3b7b37013a\n",
            "  Stored in directory: /root/.cache/pip/wheels/84/cb/21/1066bff3027215c760ca14a198f698bca8fccb92e33e2327eb\n",
            "Successfully built sentence-transformers\n",
            "Installing collected packages: sacremoses, tokenizers, transformers, sentencepiece, sentence-transformers\n",
            "Successfully installed sacremoses-0.0.45 sentence-transformers-1.1.0 sentencepiece-0.1.95 tokenizers-0.10.2 transformers-4.5.1\n"
          ],
          "name": "stdout"
        }
      ]
    },
    {
      "cell_type": "code",
      "metadata": {
        "id": "95WK0VRcLEWu"
      },
      "source": [
        "import re\n",
        "import os\n",
        "import csv\n",
        "import sys\n",
        "import string\n",
        "import random\n",
        "\n",
        "import math\n",
        "import numpy as np\n",
        "from numpy import mean\n",
        "from numpy import std\n",
        "import pandas as pd\n",
        "import matplotlib\n",
        "import matplotlib.pyplot as plt\n",
        "\n",
        "from sklearn.preprocessing import StandardScaler\n",
        "from sklearn.preprocessing import MinMaxScaler \n",
        "\n",
        "from sklearn import metrics\n",
        "from sklearn.metrics import confusion_matrix\n",
        "from sklearn.metrics import roc_auc_score\n",
        "from sklearn.metrics import accuracy_score\n",
        "from sklearn.metrics import f1_score\n",
        "\n",
        "import torch\n",
        "import torch.nn as nn\n",
        "import torch.nn.utils\n",
        "import torch.nn.functional as F\n",
        "from torch.nn.utils.rnn import pad_packed_sequence, pack_padded_sequence\n",
        "import torch.optim as optim\n",
        "from torch.utils.data import Dataset, DataLoader, WeightedRandomSampler\n",
        "\n",
        "from sentence_transformers import SentenceTransformer\n",
        "import seaborn as sns\n",
        "import statistics\n",
        "from tqdm.notebook import tqdm\n",
        "from collections import namedtuple\n",
        "from typing import List, Tuple, Dict, Set, Union\n",
        "\n",
        "import gensim\n",
        "import gensim.downloader as api"
      ],
      "execution_count": null,
      "outputs": []
    },
    {
      "cell_type": "code",
      "metadata": {
        "colab": {
          "base_uri": "https://localhost:8080/"
        },
        "id": "upOx1ulULKY1",
        "outputId": "1818e27a-5267-423a-a464-c25b5c44bdb3"
      },
      "source": [
        "from google.colab import drive\n",
        "from google.colab import files\n",
        "drive.mount(\"/content/drive\")"
      ],
      "execution_count": null,
      "outputs": [
        {
          "output_type": "stream",
          "text": [
            "Mounted at /content/drive\n"
          ],
          "name": "stdout"
        }
      ]
    },
    {
      "cell_type": "code",
      "metadata": {
        "id": "NYzh3L5vLQyN"
      },
      "source": [
        "sys.path.insert(0,\"/content/drive/My Drive/ML_proj/helpers\")\n",
        "import embedding_utils as e_utils\n",
        "import lyric_utils as l_utils\n",
        "import nn_utils as nn_utils\n",
        "import cnn_utils as cnn_utils"
      ],
      "execution_count": null,
      "outputs": []
    },
    {
      "cell_type": "code",
      "metadata": {
        "id": "qvUz64OJLTvi"
      },
      "source": [
        "## Large (14 Artist) Dataset\n",
        "# artists = ['Kendrick Lamar', 'Eminem', 'DaBaby', 'RiFF RAFF', 'Lil Baby', 'Travis Scott', 'Jadakiss', 'Tory Lanez', 'Kanye West', 'Post Malone', 'Drake', 'Nicki Minaj', 'Cardi B', 'The Weeknd']\n",
        "\n",
        "## Small (8 Artist) Dataset\n",
        "artists = ['Eminem', 'DaBaby', 'RiFF RAFF', 'Lil Baby', 'Travis Scott', 'Drake', 'Nicki Minaj', 'The Weeknd']\n",
        "\n",
        "art2idx = {}\n",
        "idx2art = {}\n",
        "n_artists = 0\n",
        "\n",
        "for artist in artists:\n",
        "\n",
        "  art2idx[artist] = n_artists\n",
        "  idx2art[n_artists] = artist\n",
        "  n_artists += 1\n",
        "\n",
        "train_df = pd.read_csv('/content/drive/My Drive/ML_proj/train_df_large_long1.csv')\n",
        "val_df = pd.read_csv('/content/drive/My Drive/ML_proj/val_df_large_long1.csv')\n",
        "test_df = pd.read_csv('/content/drive/My Drive/ML_proj/test_df_large_long1.csv')\n",
        "\n",
        "train_df = train_df[train_df['Artist'].isin(artists)]\n",
        "val_df = val_df[val_df['Artist'].isin(artists)]\n",
        "test_df = test_df[test_df['Artist'].isin(artists)]"
      ],
      "execution_count": null,
      "outputs": []
    },
    {
      "cell_type": "code",
      "metadata": {
        "colab": {
          "base_uri": "https://localhost:8080/"
        },
        "id": "PcPdjiBsLYYv",
        "outputId": "05952b06-cfdb-4838-8122-40600f0f56ae"
      },
      "source": [
        "print(str(n_artists) + \" artists\")\n",
        "print(train_df)\n",
        "print(val_df)\n",
        "print(test_df)"
      ],
      "execution_count": null,
      "outputs": [
        {
          "output_type": "stream",
          "text": [
            "8 artists\n",
            "       Unnamed: 0  ...      Artist\n",
            "1481         2402  ...      Eminem\n",
            "1482         1836  ...      Eminem\n",
            "1483        13507  ...      Eminem\n",
            "1484         2302  ...      Eminem\n",
            "1485         1125  ...      Eminem\n",
            "...           ...  ...         ...\n",
            "13134       20436  ...  The Weeknd\n",
            "13135       20741  ...  The Weeknd\n",
            "13136       20953  ...  The Weeknd\n",
            "13137       20176  ...  The Weeknd\n",
            "13138       20425  ...  The Weeknd\n",
            "\n",
            "[7507 rows x 3 columns]\n",
            "      Unnamed: 0                                              Lyric      Artist\n",
            "150         2485                     Cinderella Man, Cinderella Man      Eminem\n",
            "151        13481  Their mother wasn't raped, I ate her pussy whi...      Eminem\n",
            "152        14130  O-oh, o-oh, bitches hoppin' in my Tahoe Got on...      Eminem\n",
            "153         1777  With a potato peeler And mushed her face into ...      Eminem\n",
            "154         1653  I know what it was like, I was there once Sing...      Eminem\n",
            "...          ...                                                ...         ...\n",
            "2095       20044  When I had no crib, I guess you call that shit...  The Weeknd\n",
            "2096       20062  Push it through the pain I push it for the ple...  The Weeknd\n",
            "2097       20186  This house is not a home to you But you decide...  The Weeknd\n",
            "2098       20064  Why these niggas testing? Shit that I got them...  The Weeknd\n",
            "2099       20585  Get you wetter than reverb, right after the de...  The Weeknd\n",
            "\n",
            "[1200 rows x 3 columns]\n",
            "      Unnamed: 0                                              Lyric      Artist\n",
            "150         1587  I actually set off a chain reaction of tragic ...      Eminem\n",
            "151        13587  One thousand different houses and Münchausen, ...      Eminem\n",
            "152        13912  They make it all up, there's no such thing Lik...      Eminem\n",
            "153         1571  Can't be your Superman, can't be your Superman...      Eminem\n",
            "154         2278  What in the world gives me the right To say wh...      Eminem\n",
            "...          ...                                                ...         ...\n",
            "2095       19955  He get me redder than the devil 'til I go naus...  The Weeknd\n",
            "2096       20209  All I want to do is go on tour and drop albums...  The Weeknd\n",
            "2097       20755  Let me go, let me go (Ohh, ohh) No, no (Yeah) ...  The Weeknd\n",
            "2098       20568  Ooo, oo, oo, oo, oo Tell me how to love, it's ...  The Weeknd\n",
            "2099       20388  I've been the hardest to love (Love, baby) You...  The Weeknd\n",
            "\n",
            "[1200 rows x 3 columns]\n"
          ],
          "name": "stdout"
        }
      ]
    },
    {
      "cell_type": "code",
      "metadata": {
        "id": "ydUXyUwjMs11"
      },
      "source": [
        "def words2charindices(sents):\n",
        "    \"\"\" Convert list of sentences of words into list of list of list of character indices.\n",
        "    @param sents (list[list[str]]): sentence(s) in words\n",
        "    @return word_ids (list[list[list[int]]]): sentence(s) in indices\n",
        "    \"\"\"\n",
        "    results = []\n",
        "    for s in sents:\n",
        "        y = []\n",
        "        for w in s:\n",
        "            x = [1]\n",
        "            for c in list(w):\n",
        "                if c in char2id:\n",
        "                    x.append(char2id[c])\n",
        "                else:\n",
        "                    x.append(char2id['<unk>'])\n",
        "            x.append(2)\n",
        "            y.append(x)\n",
        "        results.append(y)\n",
        "\n",
        "    return results\n",
        "\n",
        "def to_input_tensor_char(sents, device,max_sent_len):\n",
        "    \"\"\" Convert list of sentences (words) into tensor with necessary padding for\n",
        "    shorter sentences.\n",
        "\n",
        "    @param sents (List[List[str]]): list of sentences (words)\n",
        "    @param device: device on which to load the tensor, i.e. CPU or GPU\n",
        "\n",
        "    @returns sents_var: tensor of (max_sentence_length, batch_size, max_word_length)\n",
        "    \"\"\"\n",
        "    char_ids = words2charindices(sents)\n",
        "    chars_t = pad_sents_char(char_ids, char2id['<pad>'],max_sent_len)\n",
        "    chars_var = torch.tensor(chars_t, dtype=torch.long,device=device)\n",
        "    chars_var = chars_var.permute(1,0,2)\n",
        "    chars_var = chars_var.contiguous()\n",
        "\n",
        "    return chars_var\n",
        "    \n",
        "\n",
        "def pad_sents_char(sents, char_pad_token,max_sent_length=150):\n",
        "    \"\"\" Pad list of sentences according to the longest sentence in the batch and max_word_length.\n",
        "    @param sents (list[list[list[int]]]): list of sentences, result of `words2charindices()`\n",
        "        from `vocab.py`\n",
        "    @param char_pad_token (int): index of the character-padding token\n",
        "    @returns sents_padded (list[list[list[int]]]): list of sentences where sentences/words shorter\n",
        "        than the max length sentence/word are padded out with the appropriate pad token, such that\n",
        "        each sentence in the batch now has same number of words and each word has an equal\n",
        "        number of characters\n",
        "        Output shape: (batch_size, max_sentence_length, max_word_length)\n",
        "    \"\"\"\n",
        "    max_word_length = 21\n",
        "    sents_padded = []\n",
        "\n",
        "    max_len = max(len(s) for s in sents)\n",
        "    batch_size = len(sents)\n",
        "\n",
        "    for s in sents:\n",
        "        s_padded = []\n",
        "        for w in s:\n",
        "            w_padded = []\n",
        "            for c in w:\n",
        "                w_padded.append(c)\n",
        "                if len(w_padded) >= max_word_length:\n",
        "                    break\n",
        "            w_diff = max_word_length - len(w_padded)\n",
        "            for i in range(w_diff):\n",
        "                w_padded.append(char_pad_token)\n",
        "            s_padded.append(w_padded)\n",
        "            if len(s_padded) >= max_sent_length:\n",
        "                break\n",
        "        s_diff = max_sent_length - len(s_padded)\n",
        "        for i in range(s_diff):\n",
        "            s_padded.append( max_word_length*[char_pad_token] )\n",
        "        sents_padded.append(s_padded)\n",
        "    return sents_padded"
      ],
      "execution_count": null,
      "outputs": []
    },
    {
      "cell_type": "code",
      "metadata": {
        "id": "ONWU2bArUUxM"
      },
      "source": [
        "class CNN(nn.Module):\n",
        "\n",
        "  def __init__(self, char_embed_size,word_embed_size, kernel_size=5,padding=1):\n",
        "\n",
        "    super(CNN, self).__init__()\n",
        "\n",
        "    self.kernel_size = kernel_size\n",
        "    self.pool = nn.MaxPool1d(3)\n",
        "    self.conv_layer1 = nn.Conv1d(char_embed_size, word_embed_size, kernel_size, padding)\n",
        "    self.conv_layer2 = nn.Conv1d(word_embed_size, word_embed_size, kernel_size, padding)\n",
        "    self.relu = nn.ReLU()\n",
        "\n",
        "\n",
        "  def forward(self, t):\n",
        "\n",
        "    # xconv = self.conv_layer(t)\n",
        "    # xconvout = torch.max(self.relu(xconv), dim=2)[0]\n",
        "\n",
        "    xconv = self.conv_layer1(t)\n",
        "    xconv = self.relu(xconv)\n",
        "    xconv = self.pool(xconv)\n",
        "\n",
        "    xconv = self.conv_layer2(xconv)\n",
        "    xconvout = torch.max(self.relu(xconv), dim=2)[0]\n",
        "\n",
        "    return xconvout\n",
        "\n",
        "class Highway(nn.Module):\n",
        "\n",
        "  def __init__(self, embed_size):\n",
        "\n",
        "    super(Highway, self).__init__()\n",
        "\n",
        "    self.proj_layer = nn.Linear(embed_size, embed_size, bias=True)\n",
        "    self.gate_layer = nn.Linear(embed_size, embed_size, bias=True)\n",
        "\n",
        "    self.relu = nn.ReLU()\n",
        "    self.sigmoid = nn.Sigmoid()\n",
        "\n",
        "  def forward(self, t):\n",
        "\n",
        "    xproj = self.relu( self.proj_layer(t) )\n",
        "    xgate = self.sigmoid( self.gate_layer(t) )\n",
        "\n",
        "    xhighway = (xgate * xproj) + ((1 - xgate) * t)\n",
        "\n",
        "    return xhighway"
      ],
      "execution_count": null,
      "outputs": []
    },
    {
      "cell_type": "code",
      "metadata": {
        "id": "FqP6uDb8PgKR"
      },
      "source": [
        "class ModelEmbeddings(nn.Module): \n",
        "  \"\"\"\n",
        "  Class that converts input words to their CNN-based embeddings.\n",
        "  \"\"\"\n",
        "  def __init__(self, embed_size, vocab):\n",
        "    \"\"\"\n",
        "    Init the Embedding layer for one language\n",
        "    @param embed_size (int): Embedding size (dimensionality) for the output \n",
        "    @param vocab (VocabEntry): VocabEntry object. See vocab.py for documentation.\n",
        "    \"\"\"\n",
        "    super(ModelEmbeddings, self).__init__()\n",
        "\n",
        "    self.vocab = vocab\n",
        "    self.size_of_vocab = len(self.vocab['char2id'])\n",
        "    pad_token_idx = vocab['char2id']['<pad>']\n",
        "\n",
        "    self.embed_size = embed_size\n",
        "    self.char_embed_size = embed_size\n",
        "    self.kernel_size = 3\n",
        "\n",
        "    self.char_embeddings = nn.Embedding(self.size_of_vocab, self.char_embed_size,padding_idx=pad_token_idx)\n",
        "\n",
        "    self.highway = Highway(self.embed_size)\n",
        "    self.cnn = CNN(self.char_embed_size, self.embed_size, self.kernel_size)\n",
        "\n",
        "    self.dropout = nn.Dropout(0.3)\n",
        "\n",
        "  def forward(self, input_tensor):\n",
        "    \"\"\"\n",
        "    Looks up character-based CNN embeddings for the words in a batch of sentences.\n",
        "    @param input_tensor: Tensor of integers of shape (sentence_length, batch_size, max_word_length) where\n",
        "        each integer is an index into the character vocabulary\n",
        "\n",
        "    @param output: Tensor of shape (sentence_length, batch_size, embed_size), containing the \n",
        "        CNN-based embeddings for each word of the sentences in the batch\n",
        "    \"\"\"\n",
        "    x_pad = input_tensor\n",
        "    sent_length, batch_size, max_word_length = x_pad.shape\n",
        "    x_emb = self.char_embeddings(input_tensor)\n",
        "\n",
        "    x_resh = x_emb.permute(0,1,3,2)\n",
        "    x_resh = x_resh.view(-1, self.char_embed_size, max_word_length)\n",
        "\n",
        "    x_conv_out = self.cnn(x_resh)\n",
        "    x_highway = self.highway(x_conv_out)        \n",
        "    x_highway = x_highway.view(sent_length, batch_size, self.embed_size)\n",
        "\n",
        "    x_word_embed = self.dropout(x_highway)\n",
        "    return x_word_embed\n",
        "\n"
      ],
      "execution_count": null,
      "outputs": []
    },
    {
      "cell_type": "code",
      "metadata": {
        "id": "tM-0cCVAS77W"
      },
      "source": [
        "stopwords = []\n",
        "lyrics = train_df['Lyric'].tolist() + val_df['Lyric'].tolist() + test_df['Lyric'].tolist()\n",
        "# lyrics = [l_utils.string_process(str(lyric),stopwords,False) for lyric in lyrics]\n",
        "# lyrics = [\" \".join(lyric) for lyric in lyrics]\n",
        "\n",
        "idx_lyrics = [(j,lyric) for j,lyric in enumerate(lyrics)]"
      ],
      "execution_count": null,
      "outputs": []
    },
    {
      "cell_type": "code",
      "metadata": {
        "colab": {
          "base_uri": "https://localhost:8080/"
        },
        "id": "K8lIwtNBLZ_V",
        "outputId": "b83d42db-8651-4295-f1b6-6811c3611351"
      },
      "source": [
        "X_train = idx_lyrics[:train_df.shape[0]]\n",
        "X_val = idx_lyrics[train_df.shape[0]:train_df.shape[0]+val_df.shape[0]]\n",
        "X_test = idx_lyrics[train_df.shape[0]:train_df.shape[0]+val_df.shape[0]]\n",
        "\n",
        "y_train = train_df['Artist'].to_list()\n",
        "y_train = [art2idx[x] for x in y_train]\n",
        "y_train = np.asarray(y_train)\n",
        "\n",
        "y_val = val_df['Artist'].to_list()\n",
        "y_val = [art2idx[x] for x in y_val]\n",
        "y_val = np.asarray(y_val)\n",
        "\n",
        "y_test = test_df['Artist'].to_list()\n",
        "y_test = [art2idx[x] for x in y_test]\n",
        "y_test = np.asarray(y_test)\n",
        "\n",
        "print(len(X_train))\n",
        "print(len(y_train))\n",
        "print(len(X_val))\n",
        "print(len(y_val))\n",
        "print(len(X_test))\n",
        "print(len(y_test))"
      ],
      "execution_count": null,
      "outputs": [
        {
          "output_type": "stream",
          "text": [
            "7507\n",
            "7507\n",
            "1200\n",
            "1200\n",
            "1200\n",
            "1200\n"
          ],
          "name": "stdout"
        }
      ]
    },
    {
      "cell_type": "code",
      "metadata": {
        "id": "_ltYtcNOd1Lc"
      },
      "source": [
        "# sbert = SentenceTransformer('stsb-roberta-base')"
      ],
      "execution_count": null,
      "outputs": []
    },
    {
      "cell_type": "code",
      "metadata": {
        "colab": {
          "base_uri": "https://localhost:8080/"
        },
        "id": "DjOqK1xygHY0",
        "outputId": "75486f98-159e-4b6b-91b1-28e46b3d7564"
      },
      "source": [
        "# #BUILD SBERT EMBEDS\n",
        "# print('Building SBert Embeds')\n",
        "\n",
        "# l_text = list(map(l_utils.myMap, lyrics))\n",
        "# l_embeds = sbert.encode(l_text)\n",
        "# l_embeds = np.array(l_embeds)\n",
        "# l_embeds = torch.from_numpy(l_embeds)\n",
        "# print(l_embeds.shape)"
      ],
      "execution_count": null,
      "outputs": [
        {
          "output_type": "stream",
          "text": [
            "Building SBert Embeds\n",
            "torch.Size([9907, 768])\n"
          ],
          "name": "stdout"
        }
      ]
    },
    {
      "cell_type": "code",
      "metadata": {
        "colab": {
          "base_uri": "https://localhost:8080/"
        },
        "id": "4fj8oKiBRm1n",
        "outputId": "68066e0a-a73f-4f1b-e1df-31a0a81ffcae"
      },
      "source": [
        "# # ###BUILD BoW EMBEDS\n",
        "# print('Building BoW Embeds')\n",
        "\n",
        "# doc_embed_size = 768\n",
        "# stopwords = []\n",
        "# n_train = train_df.shape[0]\n",
        "\n",
        "# corpus = []\n",
        "\n",
        "# for i,lyric in enumerate(lyrics):\n",
        "#   # lyric = str(line[1])\n",
        "#   proc = l_utils.string_process(lyric,stopwords,False)\n",
        "#   corpus.append( proc )\n",
        "\n",
        "# M_embeddings, word2Ind = e_utils.compute_embedding_matrix(corpus)\n",
        "# print(M_embeddings.shape)\n",
        "\n",
        "# l_embeds = e_utils.reduce_to_k_dim(M_embeddings, doc_embed_size,n_train)\n",
        "# l_embeds = torch.Tensor(l_embeds)"
      ],
      "execution_count": null,
      "outputs": [
        {
          "output_type": "stream",
          "text": [
            "Building BoW Embeds\n",
            "(9907, 20340)\n",
            "Running Truncated SVD over 9907 lyrics...\n",
            "Fit using only first 7507 (training) examples\n",
            "Done.\n"
          ],
          "name": "stdout"
        }
      ]
    },
    {
      "cell_type": "code",
      "metadata": {
        "colab": {
          "base_uri": "https://localhost:8080/"
        },
        "id": "GTrUsh0IR4iH",
        "outputId": "dc9224cb-c2d6-4040-8a7b-25cb34fa361b"
      },
      "source": [
        "##BUILD doc2vec EMBEDS\n",
        "print('Building doc2vec Embeds')\n",
        "\n",
        "def tagged_document(list_of_list_of_words,targets=None):\n",
        "  for i, list_of_words in enumerate(list_of_list_of_words):\n",
        "    if targets is not None:\n",
        "      yield gensim.models.doc2vec.TaggedDocument(list_of_words, [int(targets[i])])\n",
        "    else:\n",
        "      yield gensim.models.doc2vec.TaggedDocument(list_of_words, [i])\n",
        "\n",
        "stopwords = []\n",
        "data =  list(train_df['Lyric'].items())\n",
        "data = [l_utils.string_process(str(lyric[1]),stopwords,False) for lyric in data]\n",
        "\n",
        "targets = y_train\n",
        "data_for_training = list(tagged_document(data,targets))\n",
        "\n",
        "model = gensim.models.doc2vec.Doc2Vec(vector_size=768, min_count=0, epochs=10)\n",
        "model.build_vocab(data_for_training)\n",
        "model.train(data_for_training, total_examples=model.corpus_count, epochs=model.epochs)\n",
        "\n",
        "lines = [l_utils.string_process(str(lyric),stopwords,False) for lyric in lyrics]\n",
        "\n",
        "embeddings = []\n",
        "for i, line in enumerate(lines):\n",
        "  \n",
        "  vec = model.infer_vector(lines[i])\n",
        "  embeddings.append(vec)\n",
        "\n",
        "l_embeds = np.array(embeddings)\n",
        "l_embeds = torch.Tensor(l_embeds)\n",
        "print(l_embeds.shape)"
      ],
      "execution_count": null,
      "outputs": [
        {
          "output_type": "stream",
          "text": [
            "['with', 'a', 'bottle', 'of', 'jack', 'two', 'grandkids', 'in', 'my', 'lap', 'babysittin', 'for', 'hailie', 'while', 'hailie', 's', 'out', 'gettin', 'smashed', '‘cause', 'every', 'time', 'i', 'go', 'to', 'try', 'to', 'leave', 'whoa', 'something', 'keeps', 'pullin', 'on', 'my', 'sleeve', 'whoa', 'i', 'don', 't', 'wanna', 'but', 'i', 'gotta', 'stay', 'whoa', 'these', 'drugs', 'really', 'got', 'a', 'hold', 'of', 'me', 'whoa', '‘cause', 'every', 'time', 'i', 'try', 'to', 'tell', 'em', 'no', 'no', 'they', 'won', 't', 'let', 'me', 'ever', 'let', 'em', 'go', 'go']\n",
            "torch.Size([9907, 768])\n"
          ],
          "name": "stdout"
        }
      ]
    },
    {
      "cell_type": "code",
      "metadata": {
        "id": "j-MtpsZuL-AV"
      },
      "source": [
        "char_list = list(\"\"\"ABCDEFGHIJKLMNOPQRSTUVWXYZ ’—‘abcdefghijklmnopqrstuvwxyz0123456789,;.!?:'\\\"/\\\\|_@#$%^&*~`+-=<>()[]\"\"\")\n",
        "\n",
        "char2id = dict() # Converts characters to integers\n",
        "char2id['<pad>'] = 0\n",
        "char2id['{'] = 1\n",
        "char2id['}'] = 2\n",
        "char2id['<unk>'] = 3\n",
        "for i, c in enumerate(char_list):\n",
        "    char2id[c] = len(char2id)\n",
        "char_unk = char2id['<unk>']\n",
        "start_of_word = char2id[\"{\"]\n",
        "end_of_word = char2id[\"}\"]\n",
        "assert start_of_word+1 == end_of_word\n",
        "\n",
        "id2char = {v: k for k, v in char2id.items()}"
      ],
      "execution_count": null,
      "outputs": []
    },
    {
      "cell_type": "code",
      "metadata": {
        "id": "KxihEb_hWozP"
      },
      "source": [
        "class TomNet(nn.Module):\n",
        "\n",
        "    def __init__(self, embed_size, hidden_size, vocab, lookup, num_class, device, use_cnn = True, max_sent_len = 150, dropout_rate=0.2):\n",
        "        \"\"\" Init TomNet Model.\n",
        "\n",
        "        @param embed_size (int): Embedding size (dimensionality)\n",
        "        @param hidden_size (int): Hidden Size (dimensionality)\n",
        "        @param vocab (Vocab): Vocabulary object containing src and tgt languages\n",
        "                              See vocab.py for documentation.\n",
        "        @param dropout_rate (float): Dropout probability, for attention\n",
        "        \"\"\"\n",
        "        super(TomNet, self).__init__()\n",
        "\n",
        "        self.hidden_size = hidden_size\n",
        "        self.dropout_rate = dropout_rate\n",
        "        self.vocab = vocab\n",
        "        self.device = device\n",
        "\n",
        "        self.max_sent_len = max_sent_len\n",
        "        self.use_cnn = use_cnn\n",
        "        \n",
        "        self.model_embeddings_source = ModelEmbeddings(embed_size, vocab)\n",
        "        self.text_embeddings = nn.Embedding.from_pretrained(lookup)\n",
        "\n",
        "        self.word_embed_size = embed_size\n",
        "\n",
        "        if self.use_cnn:\n",
        "            self.num_features = 768+self.hidden_size\n",
        "        else:\n",
        "            self.num_features = 768\n",
        "        self.num_class = num_class\n",
        "\n",
        "        self.n1 = 1024\n",
        "        self.n2 = 1024\n",
        "        self.n3 = 512\n",
        "\n",
        "        proj_size = self.word_embed_size*self.max_sent_len\n",
        "        self.cnn_proj = nn.Linear(proj_size, self.hidden_size)\n",
        "        self.layer_1 = nn.Linear(self.num_features, self.n1)\n",
        "        self.layer_2 = nn.Linear(self.n1, self.n2)\n",
        "        self.layer_3 = nn.Linear(self.n2, self.n3)\n",
        "        self.layer_out = nn.Linear(self.n3, self.num_class)\n",
        "        \n",
        "        self.relu = nn.ReLU()\n",
        "        self.dropout = nn.Dropout(p=self.dropout_rate)\n",
        "        self.batchnormp = nn.BatchNorm1d(self.hidden_size)\n",
        "        self.batchnorm1 = nn.BatchNorm1d(self.n1)\n",
        "        self.batchnorm2 = nn.BatchNorm1d(self.n2)\n",
        "        self.batchnorm3 = nn.BatchNorm1d(self.n3)\n",
        "\n",
        "    def forward(self, source):\n",
        "        \"\"\" Take a mini-batch of source sentences, compute scores\n",
        "         under the language models learned by the TomNet system.\n",
        "\n",
        "        @param source (List[List[str]]): list of source sentence tokens\n",
        "\n",
        "        @returns scores (Tensor): a variable/tensor of shape (b, ). Here b = batch size.\n",
        "        \"\"\"\n",
        "        text = []\n",
        "        text_ids = []\n",
        "        for s in source:\n",
        "            text_ids.append(s[0])\n",
        "            text.append(s[1])\n",
        "        if self.use_cnn:\n",
        "            \n",
        "            source_padded_chars = to_input_tensor_char(text,self.device,self.max_sent_len)\n",
        "            X = self.model_embeddings_source(source_padded_chars)\n",
        "\n",
        "            X = X.reshape(-1, X.shape[1]).permute(1,0)\n",
        "            X = self.cnn_proj(X)\n",
        "            X = self.batchnormp(X)\n",
        "            X = self.relu(X)\n",
        "        \n",
        "            input = torch.tensor(text_ids, dtype=torch.long, device=device)\n",
        "            sent_embeds = self.text_embeddings(input)\n",
        "\n",
        "            x = torch.cat((X,sent_embeds),1)\n",
        "\n",
        "        else:\n",
        "            input = torch.tensor(text_ids, dtype=torch.long, device=device)\n",
        "            x = self.text_embeddings(input)\n",
        "\n",
        "        x = self.layer_1(x)\n",
        "        x = self.batchnorm1(x)\n",
        "        x = self.relu(x)\n",
        "        \n",
        "        x = self.layer_2(x)\n",
        "        x = self.batchnorm2(x)\n",
        "        x = self.relu(x)\n",
        "        x = self.dropout(x)\n",
        "        \n",
        "        x = self.layer_3(x)\n",
        "        x = self.batchnorm3(x)\n",
        "        x = self.relu(x)\n",
        "        x = self.dropout(x)\n",
        "        \n",
        "        x = self.layer_out(x)\n",
        "\n",
        "        return x\n",
        "\n"
      ],
      "execution_count": null,
      "outputs": []
    },
    {
      "cell_type": "code",
      "metadata": {
        "colab": {
          "base_uri": "https://localhost:8080/"
        },
        "id": "pW3D87I0Te5-",
        "outputId": "4d1431b6-f21d-4ded-f4cc-48d70b260d11"
      },
      "source": [
        "device = torch.device(\"cuda:0\" if torch.cuda.is_available() else \"cpu\")\n",
        "print(device)\n",
        "\n",
        "EPOCHS = 100\n",
        "BATCH_SIZE = 16\n",
        "LEARNING_RATE = 0.001\n",
        "NUM_CLASSES = n_artists\n",
        "\n",
        "vocab = {}\n",
        "vocab['char2id'] = char2id\n",
        "vocab['id2char'] = id2char\n",
        "\n",
        "word_embed_size = e_char = 50\n",
        "hidden_size = 512\n",
        "use_cnn = False\n",
        "max_sent_len = 120\n",
        "\n",
        "nn_model = TomNet(word_embed_size,hidden_size,vocab,l_embeds,n_artists,device,use_cnn,max_sent_len)\n",
        "nn_model.to(device)\n",
        "\n",
        "criterion = nn.CrossEntropyLoss()\n",
        "optimizer = optim.Adam(nn_model.parameters(), lr=LEARNING_RATE)\n",
        "print(nn_model)"
      ],
      "execution_count": null,
      "outputs": [
        {
          "output_type": "stream",
          "text": [
            "cuda:0\n",
            "TomNet(\n",
            "  (model_embeddings_source): ModelEmbeddings(\n",
            "    (char_embeddings): Embedding(100, 50, padding_idx=0)\n",
            "    (highway): Highway(\n",
            "      (proj_layer): Linear(in_features=50, out_features=50, bias=True)\n",
            "      (gate_layer): Linear(in_features=50, out_features=50, bias=True)\n",
            "      (relu): ReLU()\n",
            "      (sigmoid): Sigmoid()\n",
            "    )\n",
            "    (cnn): CNN(\n",
            "      (pool): MaxPool1d(kernel_size=3, stride=3, padding=0, dilation=1, ceil_mode=False)\n",
            "      (conv_layer1): Conv1d(50, 50, kernel_size=(3,), stride=(1,))\n",
            "      (conv_layer2): Conv1d(50, 50, kernel_size=(3,), stride=(1,))\n",
            "      (relu): ReLU()\n",
            "    )\n",
            "    (dropout): Dropout(p=0.3, inplace=False)\n",
            "  )\n",
            "  (text_embeddings): Embedding(9907, 768)\n",
            "  (cnn_proj): Linear(in_features=6000, out_features=512, bias=True)\n",
            "  (layer_1): Linear(in_features=768, out_features=1024, bias=True)\n",
            "  (layer_2): Linear(in_features=1024, out_features=1024, bias=True)\n",
            "  (layer_3): Linear(in_features=1024, out_features=512, bias=True)\n",
            "  (layer_out): Linear(in_features=512, out_features=8, bias=True)\n",
            "  (relu): ReLU()\n",
            "  (dropout): Dropout(p=0.2, inplace=False)\n",
            "  (batchnormp): BatchNorm1d(512, eps=1e-05, momentum=0.1, affine=True, track_running_stats=True)\n",
            "  (batchnorm1): BatchNorm1d(1024, eps=1e-05, momentum=0.1, affine=True, track_running_stats=True)\n",
            "  (batchnorm2): BatchNorm1d(1024, eps=1e-05, momentum=0.1, affine=True, track_running_stats=True)\n",
            "  (batchnorm3): BatchNorm1d(512, eps=1e-05, momentum=0.1, affine=True, track_running_stats=True)\n",
            ")\n"
          ],
          "name": "stdout"
        }
      ]
    },
    {
      "cell_type": "code",
      "metadata": {
        "colab": {
          "base_uri": "https://localhost:8080/",
          "height": 1000,
          "referenced_widgets": [
            "1ad60962003042539350c8bb1927d1f0",
            "32c3e98bbe124950930c21cc6a841107",
            "c58890ceea1b486b91a035bce10348d4",
            "1f6f124a33b14b31bcb525a79a49afe2",
            "9d9d33f5a702453dbb188164dd055e6d",
            "66e84a48d32f426f8273ee531616190b",
            "65c2fdadaf9f4e1b8b5d1a7008dcfa63",
            "632b3740f83b405fb20ed7b0b6ed792b"
          ]
        },
        "id": "Xqn7fcJmvdTd",
        "outputId": "e7ed0d73-e7be-47aa-f9a0-5d4871fd2975"
      },
      "source": [
        "accuracy_stats = {'train': [],\"val\": []}\n",
        "loss_stats = {'train': [], \"val\": []}\n",
        "\n",
        "train_data = list(zip(X_train, y_train))\n",
        "val_data = list(zip(X_val, y_val))\n",
        "\n",
        "fp = \"/content/drive/My Drive/ML_proj/saved_models/lyric_small_cnn_200\"\n",
        "\n",
        "best_val_acc = 0.0\n",
        "print(\"Begin training TomNet.\")\n",
        "for e in tqdm(range(1, EPOCHS+1)):\n",
        "    \n",
        "  # TRAINING\n",
        "  nn_model.train()\n",
        "  \n",
        "  train_epoch_loss = 0\n",
        "  train_epoch_acc = 0\n",
        "  count_train = 0\n",
        "  for X_train_batch, y_train_batch in nn_utils.batch_iter(train_data, batch_size=BATCH_SIZE, shuffle=True):\n",
        "\n",
        "    y_train_batch = torch.tensor(y_train_batch, dtype=torch.long).to(device)\n",
        "    optimizer.zero_grad()\n",
        "    \n",
        "    y_train_pred = nn_model(X_train_batch)\n",
        "\n",
        "    train_loss = criterion(y_train_pred, y_train_batch)\n",
        "    train_acc = nn_utils.multi_acc(y_train_pred, y_train_batch)\n",
        "    \n",
        "    train_loss.backward()\n",
        "    optimizer.step()\n",
        "    \n",
        "    train_epoch_loss += train_loss.item()\n",
        "    train_epoch_acc += train_acc.item()\n",
        "    count_train += 1\n",
        "\n",
        "  # VALIDATION\n",
        "  with torch.no_grad():\n",
        "        \n",
        "    nn_model.eval()\n",
        "\n",
        "    val_epoch_loss = 0\n",
        "    val_epoch_acc = 0\n",
        "    count_val = 0\n",
        "    for X_val_batch, y_val_batch in val_data:\n",
        "\n",
        "      y_val_pred = nn_model([X_val_batch])\n",
        "      y_val_batch = torch.tensor([y_val_batch]).to(device)         \n",
        "      val_loss = criterion(y_val_pred, y_val_batch)\n",
        "      val_acc = nn_utils.multi_acc(y_val_pred, y_val_batch)\n",
        "      \n",
        "      val_epoch_loss += val_loss.item()\n",
        "      val_epoch_acc += val_acc.item()\n",
        "      count_val += 1\n",
        "            \n",
        "  loss_stats['train'].append(train_epoch_loss/count_train)\n",
        "  loss_stats['val'].append(val_epoch_loss/count_val)\n",
        "  accuracy_stats['train'].append(train_epoch_acc/count_train)\n",
        "  accuracy_stats['val'].append(val_epoch_acc/count_val)\n",
        "\n",
        "  val_acc = val_epoch_acc/count_val\n",
        "  if val_acc > best_val_acc and e > 20:\n",
        "    best_val_acc = val_acc\n",
        "    torch.save(nn_model.state_dict(), fp+\"_best\")\n",
        "                            \n",
        "  print(f'Epoch {e+0:03}: | Train Loss: {train_epoch_loss/count_train:.5f} | Train Acc: {train_epoch_acc/count_train:.3f} | Val Loss: {val_epoch_loss/count_val:.5f} | Val Acc: {val_epoch_acc/count_val:.3f}')\n",
        "  \n"
      ],
      "execution_count": null,
      "outputs": [
        {
          "output_type": "stream",
          "text": [
            "Begin training TomNet.\n"
          ],
          "name": "stdout"
        },
        {
          "output_type": "display_data",
          "data": {
            "application/vnd.jupyter.widget-view+json": {
              "model_id": "1ad60962003042539350c8bb1927d1f0",
              "version_minor": 0,
              "version_major": 2
            },
            "text/plain": [
              "HBox(children=(FloatProgress(value=0.0), HTML(value='')))"
            ]
          },
          "metadata": {
            "tags": []
          }
        },
        {
          "output_type": "stream",
          "text": [
            "Epoch 001: | Train Loss: 0.85705 | Train Acc: 70.562 | Val Loss: 0.98543 | Val Acc: 67.250\n",
            "Epoch 002: | Train Loss: 0.69481 | Train Acc: 76.379 | Val Loss: 1.07591 | Val Acc: 65.917\n",
            "Epoch 003: | Train Loss: 0.63438 | Train Acc: 77.970 | Val Loss: 1.02768 | Val Acc: 66.250\n",
            "Epoch 004: | Train Loss: 0.59428 | Train Acc: 79.798 | Val Loss: 1.20650 | Val Acc: 64.417\n",
            "Epoch 005: | Train Loss: 0.56655 | Train Acc: 80.381 | Val Loss: 1.01180 | Val Acc: 67.833\n",
            "Epoch 006: | Train Loss: 0.53037 | Train Acc: 81.102 | Val Loss: 1.07311 | Val Acc: 65.167\n",
            "Epoch 007: | Train Loss: 0.51432 | Train Acc: 82.374 | Val Loss: 1.04301 | Val Acc: 66.833\n",
            "Epoch 008: | Train Loss: 0.49055 | Train Acc: 82.857 | Val Loss: 1.08833 | Val Acc: 65.167\n",
            "Epoch 009: | Train Loss: 0.47590 | Train Acc: 82.998 | Val Loss: 1.09295 | Val Acc: 66.250\n",
            "Epoch 010: | Train Loss: 0.44981 | Train Acc: 84.619 | Val Loss: 1.04943 | Val Acc: 67.583\n",
            "Epoch 011: | Train Loss: 0.41828 | Train Acc: 85.632 | Val Loss: 1.09593 | Val Acc: 67.750\n",
            "Epoch 012: | Train Loss: 0.41717 | Train Acc: 85.209 | Val Loss: 1.13186 | Val Acc: 67.833\n",
            "Epoch 013: | Train Loss: 0.39029 | Train Acc: 86.538 | Val Loss: 1.09468 | Val Acc: 68.167\n",
            "Epoch 014: | Train Loss: 0.38324 | Train Acc: 86.438 | Val Loss: 1.18855 | Val Acc: 65.833\n",
            "Epoch 015: | Train Loss: 0.37111 | Train Acc: 86.730 | Val Loss: 1.08147 | Val Acc: 69.167\n",
            "Epoch 016: | Train Loss: 0.34828 | Train Acc: 87.934 | Val Loss: 1.26681 | Val Acc: 65.917\n",
            "Epoch 017: | Train Loss: 0.33754 | Train Acc: 87.881 | Val Loss: 1.17815 | Val Acc: 67.500\n",
            "Epoch 018: | Train Loss: 0.34044 | Train Acc: 88.162 | Val Loss: 1.21056 | Val Acc: 68.500\n",
            "Epoch 019: | Train Loss: 0.31406 | Train Acc: 89.049 | Val Loss: 1.19746 | Val Acc: 67.167\n",
            "Epoch 020: | Train Loss: 0.29918 | Train Acc: 89.638 | Val Loss: 1.20248 | Val Acc: 67.167\n",
            "Epoch 021: | Train Loss: 0.28582 | Train Acc: 90.009 | Val Loss: 1.32255 | Val Acc: 67.333\n",
            "Epoch 022: | Train Loss: 0.29018 | Train Acc: 90.098 | Val Loss: 1.25675 | Val Acc: 66.500\n",
            "Epoch 023: | Train Loss: 0.27601 | Train Acc: 90.504 | Val Loss: 1.27698 | Val Acc: 68.250\n",
            "Epoch 024: | Train Loss: 0.27277 | Train Acc: 90.879 | Val Loss: 1.37282 | Val Acc: 67.917\n",
            "Epoch 025: | Train Loss: 0.26217 | Train Acc: 91.174 | Val Loss: 1.26215 | Val Acc: 68.667\n",
            "Epoch 026: | Train Loss: 0.24474 | Train Acc: 91.589 | Val Loss: 1.41546 | Val Acc: 67.417\n",
            "Epoch 027: | Train Loss: 0.25468 | Train Acc: 91.606 | Val Loss: 1.33231 | Val Acc: 66.333\n",
            "Epoch 028: | Train Loss: 0.24660 | Train Acc: 91.332 | Val Loss: 1.42407 | Val Acc: 66.750\n",
            "Epoch 029: | Train Loss: 0.22504 | Train Acc: 92.491 | Val Loss: 1.36900 | Val Acc: 67.250\n",
            "Epoch 030: | Train Loss: 0.23009 | Train Acc: 92.181 | Val Loss: 1.37170 | Val Acc: 68.250\n",
            "Epoch 031: | Train Loss: 0.23523 | Train Acc: 91.951 | Val Loss: 1.39416 | Val Acc: 66.417\n",
            "Epoch 032: | Train Loss: 0.22461 | Train Acc: 92.289 | Val Loss: 1.33655 | Val Acc: 66.917\n",
            "Epoch 033: | Train Loss: 0.22637 | Train Acc: 92.506 | Val Loss: 1.54034 | Val Acc: 64.333\n",
            "Epoch 034: | Train Loss: 0.21239 | Train Acc: 92.466 | Val Loss: 1.42934 | Val Acc: 67.583\n",
            "Epoch 035: | Train Loss: 0.22020 | Train Acc: 92.509 | Val Loss: 1.48776 | Val Acc: 65.500\n",
            "Epoch 036: | Train Loss: 0.20458 | Train Acc: 93.030 | Val Loss: 1.46694 | Val Acc: 67.500\n",
            "Epoch 037: | Train Loss: 0.20547 | Train Acc: 93.202 | Val Loss: 1.53710 | Val Acc: 66.333\n",
            "Epoch 038: | Train Loss: 0.21258 | Train Acc: 93.191 | Val Loss: 1.38253 | Val Acc: 67.000\n",
            "Epoch 039: | Train Loss: 0.18654 | Train Acc: 93.734 | Val Loss: 1.45488 | Val Acc: 67.000\n",
            "Epoch 040: | Train Loss: 0.18244 | Train Acc: 93.453 | Val Loss: 1.61766 | Val Acc: 65.417\n",
            "Epoch 041: | Train Loss: 0.20465 | Train Acc: 93.415 | Val Loss: 1.47036 | Val Acc: 68.167\n",
            "Epoch 042: | Train Loss: 0.22569 | Train Acc: 92.896 | Val Loss: 1.38226 | Val Acc: 67.167\n",
            "Epoch 043: | Train Loss: 0.19178 | Train Acc: 93.655 | Val Loss: 1.49891 | Val Acc: 67.750\n",
            "Epoch 044: | Train Loss: 0.20220 | Train Acc: 93.366 | Val Loss: 1.47360 | Val Acc: 67.083\n",
            "Epoch 045: | Train Loss: 0.18166 | Train Acc: 94.145 | Val Loss: 1.49067 | Val Acc: 67.250\n",
            "Epoch 046: | Train Loss: 0.19450 | Train Acc: 93.319 | Val Loss: 1.48665 | Val Acc: 67.167\n",
            "Epoch 047: | Train Loss: 0.16797 | Train Acc: 94.368 | Val Loss: 1.46161 | Val Acc: 67.417\n",
            "Epoch 048: | Train Loss: 0.18192 | Train Acc: 94.226 | Val Loss: 1.46375 | Val Acc: 67.333\n",
            "Epoch 049: | Train Loss: 0.16648 | Train Acc: 94.385 | Val Loss: 1.62659 | Val Acc: 66.750\n",
            "Epoch 050: | Train Loss: 0.15309 | Train Acc: 94.966 | Val Loss: 1.45611 | Val Acc: 69.000\n",
            "Epoch 051: | Train Loss: 0.17044 | Train Acc: 94.753 | Val Loss: 1.68148 | Val Acc: 67.417\n",
            "Epoch 052: | Train Loss: 0.15805 | Train Acc: 94.568 | Val Loss: 1.55368 | Val Acc: 66.833\n",
            "Epoch 053: | Train Loss: 0.15955 | Train Acc: 94.306 | Val Loss: 1.65867 | Val Acc: 65.000\n",
            "Epoch 054: | Train Loss: 0.17511 | Train Acc: 94.532 | Val Loss: 1.56996 | Val Acc: 68.417\n",
            "Epoch 055: | Train Loss: 0.18386 | Train Acc: 94.079 | Val Loss: 1.78690 | Val Acc: 66.750\n",
            "Epoch 056: | Train Loss: 0.16238 | Train Acc: 94.647 | Val Loss: 1.64525 | Val Acc: 66.750\n",
            "Epoch 057: | Train Loss: 0.16627 | Train Acc: 94.468 | Val Loss: 1.70657 | Val Acc: 67.917\n",
            "Epoch 058: | Train Loss: 0.17234 | Train Acc: 94.555 | Val Loss: 1.58446 | Val Acc: 69.000\n",
            "Epoch 059: | Train Loss: 0.15536 | Train Acc: 94.653 | Val Loss: 1.58261 | Val Acc: 65.417\n",
            "Epoch 060: | Train Loss: 0.14622 | Train Acc: 95.279 | Val Loss: 1.72620 | Val Acc: 65.667\n",
            "Epoch 061: | Train Loss: 0.14699 | Train Acc: 94.828 | Val Loss: 1.64700 | Val Acc: 67.750\n",
            "Epoch 062: | Train Loss: 0.15112 | Train Acc: 94.798 | Val Loss: 1.68827 | Val Acc: 66.833\n",
            "Epoch 063: | Train Loss: 0.17150 | Train Acc: 94.247 | Val Loss: 1.55598 | Val Acc: 68.250\n",
            "Epoch 064: | Train Loss: 0.14360 | Train Acc: 95.140 | Val Loss: 1.57878 | Val Acc: 68.333\n",
            "Epoch 065: | Train Loss: 0.13953 | Train Acc: 95.313 | Val Loss: 1.77463 | Val Acc: 66.417\n",
            "Epoch 066: | Train Loss: 0.14237 | Train Acc: 95.483 | Val Loss: 1.85681 | Val Acc: 67.000\n",
            "Epoch 067: | Train Loss: 0.13991 | Train Acc: 95.328 | Val Loss: 1.78657 | Val Acc: 66.250\n",
            "Epoch 068: | Train Loss: 0.13950 | Train Acc: 95.343 | Val Loss: 1.82392 | Val Acc: 68.417\n",
            "Epoch 069: | Train Loss: 0.14340 | Train Acc: 95.111 | Val Loss: 1.68568 | Val Acc: 67.083\n",
            "Epoch 070: | Train Loss: 0.15900 | Train Acc: 94.955 | Val Loss: 1.67644 | Val Acc: 68.083\n",
            "Epoch 071: | Train Loss: 0.14835 | Train Acc: 95.130 | Val Loss: 1.65646 | Val Acc: 67.417\n",
            "Epoch 072: | Train Loss: 0.13644 | Train Acc: 95.368 | Val Loss: 1.64126 | Val Acc: 67.500\n",
            "Epoch 073: | Train Loss: 0.13342 | Train Acc: 95.696 | Val Loss: 1.64383 | Val Acc: 68.917\n",
            "Epoch 074: | Train Loss: 0.14958 | Train Acc: 94.843 | Val Loss: 1.73564 | Val Acc: 66.917\n",
            "Epoch 075: | Train Loss: 0.14454 | Train Acc: 95.181 | Val Loss: 1.76425 | Val Acc: 68.583\n",
            "Epoch 076: | Train Loss: 0.13256 | Train Acc: 95.828 | Val Loss: 1.71716 | Val Acc: 67.750\n",
            "Epoch 077: | Train Loss: 0.12049 | Train Acc: 95.860 | Val Loss: 1.70929 | Val Acc: 68.333\n",
            "Epoch 078: | Train Loss: 0.13000 | Train Acc: 95.647 | Val Loss: 1.73778 | Val Acc: 69.000\n",
            "Epoch 079: | Train Loss: 0.14883 | Train Acc: 95.555 | Val Loss: 1.92641 | Val Acc: 66.250\n",
            "Epoch 080: | Train Loss: 0.12974 | Train Acc: 95.757 | Val Loss: 1.69362 | Val Acc: 68.167\n",
            "Epoch 081: | Train Loss: 0.12953 | Train Acc: 95.506 | Val Loss: 1.61296 | Val Acc: 69.250\n",
            "Epoch 082: | Train Loss: 0.13775 | Train Acc: 95.223 | Val Loss: 1.82442 | Val Acc: 67.417\n",
            "Epoch 083: | Train Loss: 0.12452 | Train Acc: 95.685 | Val Loss: 1.74544 | Val Acc: 67.333\n",
            "Epoch 084: | Train Loss: 0.12071 | Train Acc: 95.996 | Val Loss: 1.76589 | Val Acc: 66.750\n",
            "Epoch 085: | Train Loss: 0.11165 | Train Acc: 96.104 | Val Loss: 1.80914 | Val Acc: 66.583\n",
            "Epoch 086: | Train Loss: 0.11825 | Train Acc: 95.896 | Val Loss: 1.89011 | Val Acc: 67.583\n",
            "Epoch 087: | Train Loss: 0.12471 | Train Acc: 95.696 | Val Loss: 1.82796 | Val Acc: 66.333\n",
            "Epoch 088: | Train Loss: 0.12495 | Train Acc: 95.723 | Val Loss: 1.84648 | Val Acc: 68.167\n",
            "Epoch 089: | Train Loss: 0.12875 | Train Acc: 95.917 | Val Loss: 1.67607 | Val Acc: 68.417\n",
            "Epoch 090: | Train Loss: 0.12697 | Train Acc: 95.726 | Val Loss: 1.73665 | Val Acc: 68.917\n",
            "Epoch 091: | Train Loss: 0.10737 | Train Acc: 96.530 | Val Loss: 1.98368 | Val Acc: 67.417\n",
            "Epoch 092: | Train Loss: 0.11362 | Train Acc: 96.009 | Val Loss: 1.97153 | Val Acc: 68.000\n",
            "Epoch 093: | Train Loss: 0.11930 | Train Acc: 96.185 | Val Loss: 1.78994 | Val Acc: 66.500\n",
            "Epoch 094: | Train Loss: 0.11390 | Train Acc: 96.126 | Val Loss: 1.82143 | Val Acc: 67.583\n",
            "Epoch 095: | Train Loss: 0.11420 | Train Acc: 96.332 | Val Loss: 1.93094 | Val Acc: 66.167\n",
            "Epoch 096: | Train Loss: 0.10860 | Train Acc: 96.364 | Val Loss: 1.76425 | Val Acc: 68.750\n",
            "Epoch 097: | Train Loss: 0.11917 | Train Acc: 96.183 | Val Loss: 1.97648 | Val Acc: 66.500\n",
            "Epoch 098: | Train Loss: 0.12215 | Train Acc: 96.023 | Val Loss: 2.03480 | Val Acc: 65.917\n",
            "Epoch 099: | Train Loss: 0.12042 | Train Acc: 95.998 | Val Loss: 1.90126 | Val Acc: 65.750\n",
            "Epoch 100: | Train Loss: 0.11205 | Train Acc: 96.385 | Val Loss: 1.84647 | Val Acc: 68.500\n",
            "\n"
          ],
          "name": "stdout"
        }
      ]
    },
    {
      "cell_type": "code",
      "metadata": {
        "id": "wSRPOl_A0K_x"
      },
      "source": [
        "# Save model:\n",
        "# filepath = \"/content/drive/My Drive/ML_proj/saved_models/lyric_small_cnn_200\"\n",
        "filepath = fp\n",
        "torch.save(nn_model.state_dict(), filepath)\n",
        "\n",
        "# Later to restore:\n",
        "# filepath = fp+\"_best\"\n",
        "# nn_model.load_state_dict(torch.load(filepath))"
      ],
      "execution_count": null,
      "outputs": []
    },
    {
      "cell_type": "code",
      "metadata": {
        "id": "DzTy7sWwJK0L"
      },
      "source": [
        "test_data = list(zip(X_test, y_test))\n",
        "\n",
        "y_pred_list = []\n",
        "y_probs_list = []\n",
        "found = 0\n",
        "top_n = 3\n",
        "\n",
        "with torch.no_grad():\n",
        "    nn_model.eval()\n",
        "    for X_batch, y_batch in test_data:\n",
        "        y_test_pred = nn_model([X_batch])\n",
        "\n",
        "        probs = y_test_pred.tolist()[0]\n",
        "        sm = torch.softmax(torch.tensor(probs),0).tolist()\n",
        "        y_probs_list.append(sm)\n",
        "        \n",
        "        s = list( zip( probs, art2idx.keys() ) )\n",
        "        \n",
        "        s.sort(reverse=True)\n",
        "        top = s[0:top_n]\n",
        "        guesses = [i[1] for i in top]\n",
        "        ans = idx2art[y_batch]\n",
        "\n",
        "        if ans in guesses:\n",
        "            found += 1\n",
        "        \n",
        "        _, y_pred_tags = torch.max(y_test_pred, dim = 1)\n",
        "        y_pred_list.append(y_pred_tags.cpu().numpy())\n",
        "\n",
        "y_pred_list = [a.squeeze().tolist() for a in y_pred_list]\n",
        "top_n_sc = found/len(X_test)"
      ],
      "execution_count": null,
      "outputs": []
    },
    {
      "cell_type": "code",
      "metadata": {
        "colab": {
          "base_uri": "https://localhost:8080/",
          "height": 742
        },
        "id": "S_onmtP2JzBy",
        "outputId": "974e512b-3f55-49f9-a59e-e44a6dad40bb"
      },
      "source": [
        "print('n_artists = ' + str(n_artists) + '\\n')\n",
        "print('Test Results')\n",
        "print('-------------')\n",
        "\n",
        "score = accuracy_score(y_pred_list,y_test)\n",
        "print('Accuracy: ' + str(score))\n",
        "\n",
        "print('ROC AUC: ' + str(roc_auc_score(y_test, y_probs_list, multi_class='ovr')))\n",
        "\n",
        "f1 = f1_score(y_test, y_pred_list, average='macro')\n",
        "print('Avg f1: ' + str(f1))\n",
        "\n",
        "print('Top ' + str(top_n) + \" score: \" + str(top_n_sc))\n",
        "\n",
        "print('Metrics:')\n",
        "test_met = metrics.classification_report(y_test, y_pred_list, target_names=artists, digits=3)\n",
        "print(test_met)\n",
        "\n",
        "confusion_matrix_df = pd.DataFrame(confusion_matrix(y_test, y_pred_list))\n",
        "x_axis_labels = y_axis_labels = list(art2idx.keys())\n",
        "sns.heatmap(confusion_matrix_df, annot=True, xticklabels=x_axis_labels, yticklabels=y_axis_labels)"
      ],
      "execution_count": null,
      "outputs": [
        {
          "output_type": "stream",
          "text": [
            "n_artists = 8\n",
            "\n",
            "Test Results\n",
            "-------------\n",
            "Accuracy: 0.6825\n",
            "ROC AUC: 0.9348845238095238\n",
            "Avg f1: 0.6828473403133768\n",
            "Top 3 score: 0.8858333333333334\n",
            "Metrics:\n",
            "              precision    recall  f1-score   support\n",
            "\n",
            "      Eminem      0.663     0.813     0.731       150\n",
            "      DaBaby      0.711     0.707     0.709       150\n",
            "   RiFF RAFF      0.864     0.507     0.639       150\n",
            "    Lil Baby      0.841     0.633     0.722       150\n",
            "Travis Scott      0.720     0.753     0.736       150\n",
            "       Drake      0.549     0.593     0.571       150\n",
            " Nicki Minaj      0.552     0.740     0.632       150\n",
            "  The Weeknd      0.733     0.713     0.723       150\n",
            "\n",
            "    accuracy                          0.682      1200\n",
            "   macro avg      0.704     0.682     0.683      1200\n",
            "weighted avg      0.704     0.682     0.683      1200\n",
            "\n"
          ],
          "name": "stdout"
        },
        {
          "output_type": "execute_result",
          "data": {
            "text/plain": [
              "<matplotlib.axes._subplots.AxesSubplot at 0x7fdcba1b9690>"
            ]
          },
          "metadata": {
            "tags": []
          },
          "execution_count": 25
        },
        {
          "output_type": "display_data",
          "data": {
            "image/png": "[encoded data removed]",
            "text/plain": [
              "<Figure size 432x288 with 2 Axes>"
            ]
          },
          "metadata": {
            "tags": [],
            "needs_background": "light"
          }
        }
      ]
    },
    {
      "cell_type": "code",
      "metadata": {
        "id": "qU9Vvqd9SYxS",
        "colab": {
          "base_uri": "https://localhost:8080/",
          "height": 475
        },
        "outputId": "5112d83b-9a1c-4795-d330-a54857c9860e"
      },
      "source": [
        "# Create dataframes\n",
        "train_val_acc_df = pd.DataFrame.from_dict(accuracy_stats).reset_index().melt(id_vars=['index']).rename(columns={\"index\":\"epochs\"})\n",
        "train_val_loss_df = pd.DataFrame.from_dict(loss_stats).reset_index().melt(id_vars=['index']).rename(columns={\"index\":\"epochs\"})\n",
        "# Plot the dataframes\n",
        "fig, axes = plt.subplots(nrows=1, ncols=1, figsize=(10,7))\n",
        "sns.lineplot(data=train_val_acc_df, x = \"epochs\", y=\"value\", hue=\"variable\",  ax=axes).set_title('Train-Val Accuracy/Epoch')\n",
        "# sns.lineplot(data=train_val_loss_df, x = \"epochs\", y=\"value\", hue=\"variable\", ax=axes[1]).set_title('Train-Val Loss/Epoch')\n",
        "\n"
      ],
      "execution_count": null,
      "outputs": [
        {
          "output_type": "execute_result",
          "data": {
            "text/plain": [
              "Text(0.5, 1.0, 'Train-Val Accuracy/Epoch')"
            ]
          },
          "metadata": {
            "tags": []
          },
          "execution_count": 43
        },
        {
          "output_type": "display_data",
          "data": {
            "image/png": "[encoded data removed]",
            "text/plain": [
              "<Figure size 720x504 with 1 Axes>"
            ]
          },
          "metadata": {
            "tags": [],
            "needs_background": "light"
          }
        }
      ]
    },
    {
      "cell_type": "code",
      "metadata": {
        "colab": {
          "base_uri": "https://localhost:8080/"
        },
        "id": "vCaU9MGAH5nc",
        "outputId": "b96328e6-537f-45a2-c29f-7503c7477d92"
      },
      "source": [
        "import netron\n",
        "\n",
        "for X_train_batch, y_train_batch in batch_iter(train_data, batch_size=BATCH_SIZE, shuffle=True):\n",
        "  y_train_batch = torch.tensor(y_train_batch, dtype=torch.long).to(device)\n",
        "  optimizer.zero_grad()\n",
        "\n",
        "  y_train_pred = nn_model(X_train_batch)\n",
        "  break\n",
        "\n",
        "input_names = ['Document Embedding (Batch)']\n",
        "output_names = ['Class Probabilities']\n",
        "torch.onnx.export(nn_model, X_train_batch, 'cnn_v2.onnx', input_names=input_names, output_names=output_names)"
      ],
      "execution_count": null,
      "outputs": [
        {
          "output_type": "stream",
          "text": [
            "/usr/local/lib/python3.7/dist-packages/ipykernel_launcher.py:33: TracerWarning: torch.tensor results are registered as constants in the trace. You can safely ignore this warning if you use this function to create tensors out of constant variables that would be the same every time you call this function. In any other case, this might cause the trace to be incorrect.\n",
            "/usr/local/lib/python3.7/dist-packages/ipykernel_launcher.py:78: TracerWarning: torch.tensor results are registered as constants in the trace. You can safely ignore this warning if you use this function to create tensors out of constant variables that would be the same every time you call this function. In any other case, this might cause the trace to be incorrect.\n"
          ],
          "name": "stderr"
        }
      ]
    }
  ]
}